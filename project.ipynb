{
 "cells": [
  {
   "cell_type": "code",
   "execution_count": 2,
   "metadata": {},
   "outputs": [],
   "source": [
    "# import libraries\n",
    "\n",
    "from pyspark.sql import SparkSession\n",
    "from pyspark.sql.functions import *\n",
    "from pyspark.sql.types import *\n",
    "spark = SparkSession.builder.appName(\"Project\").getOrCreate()"
   ]
  },
  {
   "cell_type": "code",
   "execution_count": 3,
   "metadata": {},
   "outputs": [],
   "source": [
    "# read the data\n",
    "df = spark.read.options(header = True, inferSchema = True).csv(\"/Users/edson/Desktop/dev/mini-project-pyspark/pyspark-mini-project/OfficeData.csv\")"
   ]
  },
  {
   "cell_type": "code",
   "execution_count": 4,
   "metadata": {},
   "outputs": [
    {
     "name": "stdout",
     "output_type": "stream",
     "text": [
      "+-------------+----------+-----+------+---+-----+\n",
      "|employee_name|department|state|salary|age|bonus|\n",
      "+-------------+----------+-----+------+---+-----+\n",
      "|        James|     Sales|   NY| 90000| 34|10000|\n",
      "|      Michael|     Sales|   NY| 86000| 56|20000|\n",
      "|       Robert|     Sales|   CA| 81000| 30|23000|\n",
      "|        Maria|   Finance|   CA| 90000| 24|23000|\n",
      "|        Raman|   Finance|   CA| 99000| 40|24000|\n",
      "|        Scott|   Finance|   NY| 83000| 36|19000|\n",
      "|          Jen|   Finance|   NY| 79000| 53|15000|\n",
      "|         Jeff| Marketing|   CA| 80000| 25|18000|\n",
      "|        Kumar| Marketing|   NY| 91000| 50|21000|\n",
      "+-------------+----------+-----+------+---+-----+\n",
      "\n"
     ]
    }
   ],
   "source": [
    "df.show()"
   ]
  },
  {
   "cell_type": "code",
   "execution_count": 5,
   "metadata": {},
   "outputs": [
    {
     "name": "stdout",
     "output_type": "stream",
     "text": [
      "Total number of employees in the company:  9\n"
     ]
    }
   ],
   "source": [
    "# Print the total number of employees in the company\n",
    "print(\"Total number of employees in the company: \", df.count())"
   ]
  },
  {
   "cell_type": "code",
   "execution_count": 6,
   "metadata": {},
   "outputs": [
    {
     "name": "stdout",
     "output_type": "stream",
     "text": [
      "Total number of departments in the company:  3\n"
     ]
    }
   ],
   "source": [
    "# Print the number of departments in the company\n",
    "print(\"Total number of departments in the company: \", df.select(\"Department\").distinct().count())"
   ]
  },
  {
   "cell_type": "code",
   "execution_count": 10,
   "metadata": {},
   "outputs": [
    {
     "name": "stdout",
     "output_type": "stream",
     "text": [
      "+----------+\n",
      "|department|\n",
      "+----------+\n",
      "|     Sales|\n",
      "|   Finance|\n",
      "| Marketing|\n",
      "+----------+\n",
      "\n",
      "Names of the company:  None\n"
     ]
    }
   ],
   "source": [
    "# Print the names of the company\n",
    "print(\"Names of the company: \", df.select(\"department\").distinct().show())"
   ]
  },
  {
   "cell_type": "code",
   "execution_count": 11,
   "metadata": {},
   "outputs": [
    {
     "name": "stdout",
     "output_type": "stream",
     "text": [
      "+----------+-----+\n",
      "|Department|count|\n",
      "+----------+-----+\n",
      "|     Sales|    3|\n",
      "|   Finance|    4|\n",
      "| Marketing|    2|\n",
      "+----------+-----+\n",
      "\n",
      "Total number of employees in each department:  None\n"
     ]
    }
   ],
   "source": [
    "# Print the total numeber of employees in each department\n",
    "print(\"Total number of employees in each department: \", df.groupBy(\"Department\").count().show())"
   ]
  },
  {
   "cell_type": "code",
   "execution_count": 12,
   "metadata": {},
   "outputs": [
    {
     "name": "stdout",
     "output_type": "stream",
     "text": [
      "+-----+-----+\n",
      "|State|count|\n",
      "+-----+-----+\n",
      "|   CA|    4|\n",
      "|   NY|    5|\n",
      "+-----+-----+\n",
      "\n",
      "Total number of employees in each state:  None\n"
     ]
    }
   ],
   "source": [
    "# Print the total number of employees in each state\n",
    "print(\"Total number of employees in each state: \", df.groupBy(\"State\").count().show())"
   ]
  },
  {
   "cell_type": "code",
   "execution_count": 13,
   "metadata": {},
   "outputs": [
    {
     "name": "stdout",
     "output_type": "stream",
     "text": [
      "+-----+----------+-----+\n",
      "|State|Department|count|\n",
      "+-----+----------+-----+\n",
      "|   CA|     Sales|    1|\n",
      "|   CA| Marketing|    1|\n",
      "|   NY|     Sales|    2|\n",
      "|   CA|   Finance|    2|\n",
      "|   NY|   Finance|    2|\n",
      "|   NY| Marketing|    1|\n",
      "+-----+----------+-----+\n",
      "\n",
      "Total number of employees in each state in each department:  None\n"
     ]
    }
   ],
   "source": [
    "# Print the total number of employees in each state in each department\n",
    "print(\"Total number of employees in each state in each department: \", df.groupBy(\"State\", \"Department\").count().show())\n"
   ]
  },
  {
   "cell_type": "code",
   "execution_count": 14,
   "metadata": {},
   "outputs": [
    {
     "name": "stdout",
     "output_type": "stream",
     "text": [
      "+----------+----------+----------+\n",
      "|Department|Min_Salary|Max_Salary|\n",
      "+----------+----------+----------+\n",
      "|   Finance|     79000|     99000|\n",
      "| Marketing|     80000|     91000|\n",
      "|     Sales|     81000|     90000|\n",
      "+----------+----------+----------+\n",
      "\n",
      "Minimum and maximum salary of each department and sort salary in ascending order:  None\n"
     ]
    }
   ],
   "source": [
    "# Print the minimum and maximum salary of each department and sort salary in ascending order\n",
    "print(\"Minimum and maximum salary of each department and sort salary in ascending order: \", df.groupBy(\"Department\").agg(min(\"Salary\").alias(\"Min_Salary\"), max(\"Salary\").alias(\"Max_Salary\")).orderBy(\"Department\").show())"
   ]
  },
  {
   "cell_type": "code",
   "execution_count": 22,
   "metadata": {},
   "outputs": [],
   "source": [
    "# Print the names of employees working in NY state under Finance department whose bonuses are greater than the average bonuses of employees in NY state\n",
    "\n",
    "# print(\"\")\n",
    "\n"
   ]
  },
  {
   "cell_type": "code",
   "execution_count": 23,
   "metadata": {},
   "outputs": [
    {
     "name": "stdout",
     "output_type": "stream",
     "text": [
      "+-------------+----------+-----+------+---+-----+\n",
      "|employee_name|department|state|salary|age|bonus|\n",
      "+-------------+----------+-----+------+---+-----+\n",
      "|      Michael|     Sales|   NY| 86000| 56|20000|\n",
      "|          Jen|   Finance|   NY| 79000| 53|15000|\n",
      "|        Kumar| Marketing|   NY| 91000| 50|21000|\n",
      "+-------------+----------+-----+------+---+-----+\n",
      "\n",
      "Raise the salaries $500 of all employees whose age is greater than 45 with spark SQL:  None None\n"
     ]
    }
   ],
   "source": [
    "# Raise the salaries $500 of all employees whose age is greater than 45 with spark SQL\n",
    "\n",
    "print(\"Raise the salaries $500 of all employees whose age is greater than 45 with spark SQL: \", df.createOrReplaceTempView(\"OfficeData\"), spark.sql(\"SELECT * FROM OfficeData WHERE Age > 45\").show())\n",
    "\n",
    "\n"
   ]
  },
  {
   "cell_type": "code",
   "execution_count": 24,
   "metadata": {},
   "outputs": [
    {
     "name": "stdout",
     "output_type": "stream",
     "text": [
      "Create DF of all those employees whose age is greater than 45 and save them in a csv file:  None None\n"
     ]
    }
   ],
   "source": [
    "# Crreate DF of all those employees whose age is greater than 45 and save them in a csv file\n",
    "\n",
    "print(\"Create DF of all those employees whose age is greater than 45 and save them in a csv file: \", df.createOrReplaceTempView(\"OfficeData\"), spark.sql(\"SELECT * FROM OfficeData WHERE Age > 45\").write.csv(\"/Users/edson/Desktop/dev/mini-project-pyspark/pyspark-mini-project/OfficeData_age.csv\"))\n",
    "\n"
   ]
  },
  {
   "cell_type": "code",
   "execution_count": null,
   "metadata": {},
   "outputs": [],
   "source": []
  }
 ],
 "metadata": {
  "kernelspec": {
   "display_name": "Python 3",
   "language": "python",
   "name": "python3"
  },
  "language_info": {
   "codemirror_mode": {
    "name": "ipython",
    "version": 3
   },
   "file_extension": ".py",
   "mimetype": "text/x-python",
   "name": "python",
   "nbconvert_exporter": "python",
   "pygments_lexer": "ipython3",
   "version": "3.12.0"
  }
 },
 "nbformat": 4,
 "nbformat_minor": 2
}
